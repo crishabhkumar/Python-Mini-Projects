{
 "cells": [
  {
   "cell_type": "markdown",
   "metadata": {},
   "source": [
    "# Implementing the Number GuessGame form using random function of python."
   ]
  },
  {
   "cell_type": "code",
   "execution_count": 6,
   "metadata": {},
   "outputs": [],
   "source": [
    "import random\n",
    "play = 'Y'"
   ]
  },
  {
   "cell_type": "code",
   "execution_count": 7,
   "metadata": {},
   "outputs": [],
   "source": [
    "def guessGame(l1,u1):\n",
    "    #making the number of chances = 5\n",
    "    chances = 5\n",
    "    number = random.randint(l1,u1)\n",
    "    print(\"\\nI'm thinking a number between {} and {}\".format(l1,u1))\n",
    "    print(\"\\nYou have 5 chances to guess the right number.\\n\")\n",
    "    #taking the input from user which will be predicted by user.\n",
    "    numberChoice = int(input(\"Guess the number:\"))\n",
    "    \n",
    "    while numberChoice != number:\n",
    "        chances -= 1\n",
    "        if chances > 0:\n",
    "            if numberChoice > u1 or numberChoice <l1:  #if number is out of range \n",
    "                print(\"\\nInvalid input! \\nPlease input a number between {} and {}\".format(l1,u1))\n",
    "            #codition for number is greater than the expected value\n",
    "            elif numberChoice > number and numberChoice < u1:\n",
    "                print(\"\\nHigh!!! Remaining chances {}\".format(chances))\n",
    "            #codition for number is lower than the expexted value\n",
    "            elif numberChoice < number:\n",
    "                print(\"\\nLow!!! Remaining chances {}\".format(chances))\n",
    "            numberChoice = int(input(\"Please try again:\"))\n",
    "        else:\n",
    "            #when chances are over and user didnt predicted the correct value\n",
    "            print(\"\\nYou lost! The number was {}\\n\".format(number))\n",
    "            break\n",
    "    else:\n",
    "        #user got the correct number\n",
    "        print(\"\\nCorrect!! Great Guess!\\n\")\n",
    "        \n",
    "        \n"
   ]
  },
  {
   "cell_type": "code",
   "execution_count": null,
   "metadata": {},
   "outputs": [
    {
     "name": "stdout",
     "output_type": "stream",
     "text": [
      "Enter Difficulty Levele(1\\2\\3) -> 1\n",
      "\n",
      "I'm thinking a number between 0 and 10\n",
      "\n",
      "You have 5 chances to guess the right number.\n",
      "\n",
      "Guess the number:5\n",
      "\n",
      "High!!! Remaining chances 4\n",
      "Please try again:3\n",
      "\n",
      "High!!! Remaining chances 3\n",
      "Please try again:2\n",
      "\n",
      "High!!! Remaining chances 2\n",
      "Please try again:1\n",
      "\n",
      "High!!! Remaining chances 1\n"
     ]
    }
   ],
   "source": [
    "while play.lower() != 'n':\n",
    "    option = int(input(\"Enter Difficulty Levele(1\\\\2\\\\3) -> \"))\n",
    "    if option == 1:\n",
    "        guessGame(0,10)\n",
    "    elif option == 2:\n",
    "        guessGame(0,100)\n",
    "    elif option == 3:\n",
    "        guessGame(0,300)\n",
    "    play = input(\"Wants to play again? (Y or y/N or n): \")\n",
    "    \n",
    "print(\"Thank you for playing the game!\")"
   ]
  }
 ],
 "metadata": {
  "kernelspec": {
   "display_name": "Python 3",
   "language": "python",
   "name": "python3"
  },
  "language_info": {
   "codemirror_mode": {
    "name": "ipython",
    "version": 3
   },
   "file_extension": ".py",
   "mimetype": "text/x-python",
   "name": "python",
   "nbconvert_exporter": "python",
   "pygments_lexer": "ipython3",
   "version": "3.8.5"
  }
 },
 "nbformat": 4,
 "nbformat_minor": 4
}
